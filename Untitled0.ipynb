{
 "metadata": {
  "name": "",
  "signature": "sha256:7fdb136200e7bc6662f459a1bc9c6494469e36d522df87a4a094bcd1ab5a82a0"
 },
 "nbformat": 3,
 "nbformat_minor": 0,
 "worksheets": [
  {
   "cells": [
    {
     "cell_type": "markdown",
     "metadata": {},
     "source": [
      "# Causation analysis\n",
      "This notebook describes the basic usage of `causation` class implementing various approaches to estimate causality mainly based on results described in [Joris et al, 2014]\n"
     ]
    },
    {
     "cell_type": "markdown",
     "metadata": {},
     "source": [
      "A simple (and pretty wrong) approach to estimate causality is based on correlation. If you do not accept the dangers of this approach you can use the `correlation_score` method inside a `causation` object. This function just compute the Pearson's correlation coefficient $\\rho_{X,Y}$ between random variables $X$ and $Y$ defined by \n",
      "\n",
      "$$\n",
      "\\rho_{X,Y} = \\frac{E\\left [   (X - \\mu x) (Y - \\mu y) \\right ]}{\\sigma_X \\sigma_Y}\n",
      "$$\n",
      "\n",
      "and returns the absolute value."
     ]
    },
    {
     "cell_type": "code",
     "collapsed": false,
     "input": [
      "    from causation import *\n",
      "    A  = [1, 2, 3, 4, 5, 6, 7, 8, 9, 10, 11, 12, 13]\n",
      "    CO = causation(A,A)\n",
      "    print 'correlation(A,B):', CO.correlation_score(criteria='pearsonr')\n",
      "    CO.plot_data()"
     ],
     "language": "python",
     "metadata": {},
     "outputs": [
      {
       "output_type": "stream",
       "stream": "stdout",
       "text": [
        "correlation(A,B): 1.0\n"
       ]
      },
      {
       "metadata": {},
       "output_type": "display_data",
       "png": "[encoded data removed]",
       "text": [
        "<matplotlib.figure.Figure at 0x110125490>"
       ]
      }
     ],
     "prompt_number": 17
    },
    {
     "cell_type": "markdown",
     "metadata": {},
     "source": [
      "Note that `CO.plot_data()` produces a scatter plot between the original variables used to construct the `correlation` object.\n",
      "\n",
      "Here a not so correlated example"
     ]
    },
    {
     "cell_type": "code",
     "collapsed": false,
     "input": [
      "    from causation import *\n",
      "    A, B = [1, 2, 3, 4, 5, 6, 7, 8, 9, 10, 11, 12, 13], [1, 4, 5, 3, 2, 9, 0, 8, 6, 7, 11, 13, 12]\n",
      "    CO = causation(A,B)\n",
      "    print 'correlation(A,B):', CO.correlation_score(criteria='pearsonr')\n",
      "    CO.plot_data()"
     ],
     "language": "python",
     "metadata": {},
     "outputs": [
      {
       "output_type": "stream",
       "stream": "stdout",
       "text": [
        "correlation(A,B): 0.779769325509\n"
       ]
      },
      {
       "metadata": {},
       "output_type": "display_data",
       "png": "[encoded data removed]",
       "text": [
        "<matplotlib.figure.Figure at 0x110106a10>"
       ]
      }
     ],
     "prompt_number": 19
    },
    {
     "cell_type": "markdown",
     "metadata": {},
     "source": [
      "#Additive Noise Models\n",
      "Causation direction is predicted using the bivariate Additive Noise Model (ANM) [REF] to decide if random variable $X$ causes $Y$, said $X \\rightarrow Y$. \n",
      "To decide if an ANM is satisfied in the $X \\rightarrow Y$ direction, it is necessary to prove independence of the variable $E = Y - P(X)$ with respect to $X$, where $P(X)$ estimates $Y$. No restriction about the predictor $P$ is imposed, more than it should be non parametric.\n",
      "\n",
      "Authors in [REF] describe why if an ANM is satisfied in one direction, it is not necessary to test the opposite direction. Nevertheless, discussion is also stressed about the arbitrarity of the independence test and admit that the model could be satisfied in both (or any) directions for a given significance level, thus, raw statistic could be used instead of the resulting p-value.\n",
      "\n",
      "This method is implemented in `ANM_predict_causality`. Error estimation phase is performed by a Gaussian Processes regressor to predict $Y$ given $X$. Independence of errors with respect $X$ is tested by Kruskal-Wallis H-test using `independence_criterion='kruskal'`. (Hilbert-Schmidt Independence Criterion implementation is ..)"
     ]
    },
    {
     "cell_type": "markdown",
     "metadata": {},
     "source": [
      "### Example\n",
      "Following example is based on the first dataset from [Pairs Dataset](https://webdav.tuebingen.mpg.de/cause-effect/).\n",
      "Data is splitted in "
     ]
    },
    {
     "cell_type": "code",
     "collapsed": false,
     "input": [
      "import numpy as np\n",
      "Z = np.loadtxt(\"pair0001.txt\")\n",
      "X, Y = Z[:,0], Z[:,1]\n",
      "\n",
      "CO = causation(X,Y)\n",
      "print 'X --> Y ?:', CO.ANM_predict_causality(train_size=0.5\n",
      "                               ,independence_criterion='kruskal')['causal_direction']\n",
      "CO.plot_data()"
     ],
     "language": "python",
     "metadata": {},
     "outputs": [
      {
       "output_type": "stream",
       "stream": "stdout",
       "text": [
        "X --> Y ?: 1\n"
       ]
      },
      {
       "metadata": {},
       "output_type": "display_data",
       "png": "[encoded data removed]",
       "text": [
        "<matplotlib.figure.Figure at 0x110110890>"
       ]
      }
     ],
     "prompt_number": 45
    },
    {
     "cell_type": "code",
     "collapsed": false,
     "input": [],
     "language": "python",
     "metadata": {},
     "outputs": []
    }
   ],
   "metadata": {}
  }
 ]
}