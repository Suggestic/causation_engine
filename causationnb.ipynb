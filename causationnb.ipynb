{
 "metadata": {
  "name": "",
  "signature": "sha256:96ecd3496f642f8f3b406137487f86b13d57c1f30ea1222b1975bc2822905726"
 },
 "nbformat": 3,
 "nbformat_minor": 0,
 "worksheets": [
  {
   "cells": [
    {
     "cell_type": "markdown",
     "metadata": {},
     "source": [
      "# Causation analysis\n",
      "This notebook describes the basic usage of `causation` class implementing various approaches to estimate causality, mainly based on results described in [Joris et al., 2014]\n"
     ]
    },
    {
     "cell_type": "markdown",
     "metadata": {},
     "source": [
      "A simple (and pretty wrong) approach to estimate causality is based on correlation. If you do not accept the dangers of this approach you can use the `correlation_score` method inside a `causation` object. This function just compute the Pearson's correlation coefficient $\\rho_{X,Y}$ between random variables $X$ and $Y$ defined by \n",
      "\n",
      "$$\n",
      "\\rho_{X,Y} = \\frac{E\\left [   (X - \\mu x) (Y - \\mu y) \\right ]}{\\sigma_X \\sigma_Y}\n",
      "$$\n",
      "\n",
      "and returns the absolute value."
     ]
    },
    {
     "cell_type": "code",
     "collapsed": false,
     "input": [
      "    from causation import *\n",
      "    A  = [1, 2, 3, 4, 5, 6, 7, 8, 9, 10, 11, 12, 13]\n",
      "    CO = causation(A,A)\n",
      "    print 'correlation(A,B):', CO.correlation_score(criteria='pearsonr')\n",
      "    CO.plot_data()"
     ],
     "language": "python",
     "metadata": {},
     "outputs": [
      {
       "output_type": "stream",
       "stream": "stdout",
       "text": [
        "correlation(A,B): 1.0\n"
       ]
      },
      {
       "metadata": {},
       "output_type": "display_data",
       "png": "[encoded data removed]",
       "text": [
        "<matplotlib.figure.Figure at 0x1137a7a50>"
       ]
      }
     ],
     "prompt_number": 4
    },
    {
     "cell_type": "markdown",
     "metadata": {},
     "source": [
      "Note that `CO.plot_data()` produces a scatter plot between the original variables used to construct the `correlation` object.\n",
      "\n",
      "Here a not so correlated example"
     ]
    },
    {
     "cell_type": "code",
     "collapsed": false,
     "input": [
      "    from causation import *\n",
      "    A, B = [1, 2, 3, 4, 5, 6, 7, 8, 9, 10, 11, 12, 13], [1, 4, 5, 3, 2, 9, 0, 8, 6, 7, 11, 13, 12]\n",
      "    CO = causation(A,B)\n",
      "    print 'correlation(A,B):', CO.correlation_score(criteria='pearsonr')\n",
      "    CO.plot_data()"
     ],
     "language": "python",
     "metadata": {},
     "outputs": [
      {
       "output_type": "stream",
       "stream": "stdout",
       "text": [
        "correlation(A,B): 0.779769325509\n"
       ]
      },
      {
       "metadata": {},
       "output_type": "display_data",
       "png": "[encoded data removed]",
       "text": [
        "<matplotlib.figure.Figure at 0x10cf82490>"
       ]
      }
     ],
     "prompt_number": 2
    },
    {
     "cell_type": "markdown",
     "metadata": {},
     "source": [
      "#Additive Noise Models\n",
      "Causation direction is predicted using the bivariate Additive Noise Model (ANM) [REF] to decide if random variable $X$ causes $Y$, said $X \\rightarrow Y$. \n",
      "To decide if an ANM is satisfied in the $X \\rightarrow Y$ direction, it is necessary to prove independence of the variable $E = Y - P(X)$ with respect to $X$, where $P(X)$ estimates $Y$. No restriction about the predictor $P$ is imposed, more than it should be non parametric.\n",
      "\n",
      "Authors in [REF] describe why if an ANM is satisfied in one direction, it is not necessary to test the opposite direction. Nevertheless, discussion is also stressed about the arbitrarity of the independence test and admit that the model could be satisfied in both (or any) directions for a given significance level, thus, raw statistic could be used instead of the resulting p-value.\n",
      "\n",
      "This method is implemented in `ANM_predict_causality`. Error estimation phase is performed by a Gaussian Processes regressor to predict $Y$ given $X$. Independence of errors with respect $X$ is tested by Kruskal-Wallis H-test using `independence_criterion='kruskal'`. Hilbert-Schmidt Independence Criterion is used with `independence_criterion='HSIC'."
     ]
    },
    {
     "cell_type": "markdown",
     "metadata": {},
     "source": [
      "### Example\n",
      "Following example is based on the first dataset from [Pairs Dataset](https://webdav.tuebingen.mpg.de/cause-effect/).\n",
      "`ANM_predict_causality` tests two directions of causality and returns a dictionary with the minimum of the two p-values arising from the error independence test and the causal direction under keys `pvalscore` and `causal_direction`."
     ]
    },
    {
     "cell_type": "code",
     "collapsed": false,
     "input": [
      "import numpy as np\n",
      "Z = np.loadtxt(\"pair0001.txt\")\n",
      "X, Y = Z[:,0], Z[:,1]\n",
      "\n",
      "CO = causation(X,Y)\n",
      "print 'X --> Y ?:', CO.ANM_predict_causality(train_size=0.5\n",
      "                               ,independence_criterion='kruskal')['causal_direction']\n",
      "CO.plot_data()"
     ],
     "language": "python",
     "metadata": {},
     "outputs": [
      {
       "output_type": "stream",
       "stream": "stdout",
       "text": [
        "X --> Y ?: 1\n"
       ]
      },
      {
       "metadata": {},
       "output_type": "display_data",
       "png": "[encoded data removed]",
       "text": [
        "<matplotlib.figure.Figure at 0x1137a79d0>"
       ]
      }
     ],
     "prompt_number": 5
    },
    {
     "cell_type": "markdown",
     "metadata": {},
     "source": [
      "Original data is splitted into train and test datasets. Training dataset size is controlled by `train_size` argument. Training dataset is used to train the chosen regressor, while the test dataset is used to obtain the errors and test independence."
     ]
    },
    {
     "cell_type": "markdown",
     "metadata": {},
     "source": [
      "### Causation inference with bagging\n",
      "\n",
      "Final outcome of the test is affected by the initial samplig. Bootstrap aggregating approach can be introduced to overcome this limitation by making several tests with different data samples chosen with replacement from the original dataset. Thus, final outcome is obtained as the majority of the predicted causal directions.\n",
      "Bagging approach is implemented in `AMM_bagging_causality_prediction`. This function makes independent conclusions with each of the number of trials defined by the `steps` parameter and returns `1` if the majority of conclusions favors the $X \\rightarrow Y$ direction, or `-1`.\n"
     ]
    },
    {
     "cell_type": "code",
     "collapsed": false,
     "input": [
      "AMM_bagging_causality_prediction(X,Y,steps=100)"
     ],
     "language": "python",
     "metadata": {},
     "outputs": [
      {
       "metadata": {},
       "output_type": "pyout",
       "prompt_number": 8,
       "text": [
        "-1"
       ]
      }
     ],
     "prompt_number": 8
    },
    {
     "cell_type": "markdown",
     "metadata": {},
     "source": [
      "`QA_single` implements this approach and plot the histogram of the minimum p-values obtained in each iteration. "
     ]
    },
    {
     "cell_type": "code",
     "collapsed": false,
     "input": [
      "QA_single(steps=500,dataset_fn='pair0001.txt')"
     ],
     "language": "python",
     "metadata": {},
     "outputs": [
      {
       "metadata": {},
       "output_type": "display_data",
       "png": "[encoded data removed]",
       "text": [
        "<matplotlib.figure.Figure at 0x11246d710>"
       ]
      },
      {
       "metadata": {},
       "output_type": "display_data",
       "png": "[encoded data removed]",
       "text": [
        "<matplotlib.figure.Figure at 0x11246d350>"
       ]
      },
      {
       "output_type": "stream",
       "stream": "stdout",
       "text": [
        "#X->Y: 257\n",
        "#Y->X: 243\n",
        "mean X->Y: 296544.893786\n",
        "mean Y->X: 125802.484684\n",
        "mannwhitneyu: (66.0, 2.8563191007743948e-83)\n"
       ]
      },
      {
       "metadata": {},
       "output_type": "pyout",
       "prompt_number": 9,
       "text": [
        "1"
       ]
      }
     ],
     "prompt_number": 9
    },
    {
     "cell_type": "markdown",
     "metadata": {},
     "source": [
      "In this previous example, all the tests consistently favored the causal direction $X \\rightarrow Y$"
     ]
    },
    {
     "cell_type": "markdown",
     "metadata": {},
     "source": [
      "### Density estimation\n",
      "Input for this methodology is vibariate observational data only. The samples of $X$ and $Y$ are assumed to come from a joint distribution $P(X,Y)$. One of the foundations of the ANM for causality estimation depends on the differences between conditional probability densities $P(X|Y)$ and $P(Y|X)$. Visualization of these density functions allows a better understanding of the ANM conclusions.\n",
      "This section is intended to provide visualization methods for these density functions.\n",
      "First, `causation` class contains `plot_data_density` method to plot $P(X,Y)$ approximated by kernel density estimation (KDE)."
     ]
    },
    {
     "cell_type": "code",
     "collapsed": false,
     "input": [
      "from causation import *\n",
      "import numpy as np\n",
      "Z = np.loadtxt(\"pairs_dataset/pair0019.txt\")\n",
      "X, Y = Z[:,0], Z[:,1]\n",
      "causation(X,Y).plot_data_density(bw_method='silverman')"
     ],
     "language": "python",
     "metadata": {},
     "outputs": [
      {
       "metadata": {},
       "output_type": "display_data",
       "png": "[encoded data removed]",
       "text": [
        "<matplotlib.figure.Figure at 0x10685d290>"
       ]
      }
     ],
     "prompt_number": 7
    },
    {
     "cell_type": "markdown",
     "metadata": {},
     "source": [
      "## Benchmark\n",
      "\n",
      "The `benchmark` module contains `benchmark_pairs_data` function to evaluate the accuracy of causal predictions over [Pairs Dataset](https://webdav.tuebingen.mpg.de/cause-effect/)"
     ]
    },
    {
     "cell_type": "code",
     "collapsed": false,
     "input": [
      "import benchmark\n",
      "\n",
      "fac = benchmark.benchmark_pairs_data()\n",
      "print '\\nFinal Benchmark Accuracy:', fac"
     ],
     "language": "python",
     "metadata": {},
     "outputs": [
      {
       "output_type": "stream",
       "stream": "stdout",
       "text": [
        "./pairs_dataset/pair0001.txt\n",
        "./pairs_dataset/pair0001_des.txt\n",
        "./pairs_dataset/pair0002.txt\n",
        "./pairs_dataset/pair0002_des.txt\n",
        "./pairs_dataset/pair0003.txt\n",
        "./pairs_dataset/pair0003_des.txt\n",
        "./pairs_dataset/pair0004.txt\n",
        "./pairs_dataset/pair0004_des.txt\n",
        "./pairs_dataset/pair0005.txt\n",
        "./pairs_dataset/pair0005_des.txt\n",
        "./pairs_dataset/pair0006.txt\n",
        "./pairs_dataset/pair0006_des.txt\n",
        "./pairs_dataset/pair0007.txt\n",
        "./pairs_dataset/pair0007_des.txt\n",
        "./pairs_dataset/pair0008.txt\n",
        "./pairs_dataset/pair0008_des.txt\n",
        "./pairs_dataset/pair0009.txt\n",
        "./pairs_dataset/pair0009_des.txt\n",
        "./pairs_dataset/pair0010.txt\n",
        "./pairs_dataset/pair0010_des.txt\n",
        "./pairs_dataset/pair0011.txt\n",
        "./pairs_dataset/pair0011_des.txt\n",
        "./pairs_dataset/pair0012.txt\n",
        "./pairs_dataset/pair0012_des.txt\n",
        "./pairs_dataset/pair0013.txt\n",
        "./pairs_dataset/pair0013_des.txt\n",
        "./pairs_dataset/pair0014.txt\n",
        "./pairs_dataset/pair0014_des.txt\n",
        "./pairs_dataset/pair0015.txt\n",
        "./pairs_dataset/pair0015_des.txt\n",
        "./pairs_dataset/pair0016.txt\n",
        "./pairs_dataset/pair0016_des.txt\n",
        "./pairs_dataset/pair0017.txt\n",
        "./pairs_dataset/pair0017_des.txt"
       ]
      },
      {
       "output_type": "stream",
       "stream": "stdout",
       "text": [
        "\n",
        "./pairs_dataset/pair0018.txt\n",
        "./pairs_dataset/pair0018_des.txt\n",
        "./pairs_dataset/pair0019.txt\n",
        "./pairs_dataset/pair0019_des.txt\n",
        "./pairs_dataset/pair0020.txt\n",
        "./pairs_dataset/pair0020_des.txt\n",
        "./pairs_dataset/pair0021.txt\n",
        "./pairs_dataset/pair0021_des.txt\n",
        "./pairs_dataset/pair0022.txt\n",
        "./pairs_dataset/pair0022_des.txt\n",
        "./pairs_dataset/pair0023.txt\n",
        "./pairs_dataset/pair0023_des.txt\n",
        "./pairs_dataset/pair0024.txt\n",
        "./pairs_dataset/pair0024_des.txt\n",
        "./pairs_dataset/pair0025.txt\n",
        "./pairs_dataset/pair0025_des.txt\n",
        "./pairs_dataset/pair0026.txt\n",
        "./pairs_dataset/pair0026_des.txt\n",
        "./pairs_dataset/pair0027.txt\n",
        "./pairs_dataset/pair0027_des.txt\n",
        "./pairs_dataset/pair0028.txt\n",
        "./pairs_dataset/pair0028_des.txt\n",
        "./pairs_dataset/pair0029.txt\n",
        "./pairs_dataset/pair0029_des.txt\n",
        "./pairs_dataset/pair0030.txt\n",
        "./pairs_dataset/pair0030_des.txt\n",
        "./pairs_dataset/pair0031.txt\n",
        "./pairs_dataset/pair0031_des.txt\n",
        "./pairs_dataset/pair0032.txt\n",
        "./pairs_dataset/pair0032_des.txt\n",
        "./pairs_dataset/pair0033.txt\n",
        "./pairs_dataset/pair0033_des.txt\n",
        "./pairs_dataset/pair0034.txt\n",
        "./pairs_dataset/pair0034_des.txt\n",
        "./pairs_dataset/pair0035.txt\n",
        "./pairs_dataset/pair0035_des.txt\n",
        "./pairs_dataset/pair0036.txt\n",
        "./pairs_dataset/pair0036_des.txt\n",
        "./pairs_dataset/pair0037.txt\n",
        "./pairs_dataset/pair0037_des.txt\n",
        "./pairs_dataset/pair0038.txt\n",
        "./pairs_dataset/pair0038_des.txt\n",
        "./pairs_dataset/pair0039.txt\n",
        "./pairs_dataset/pair0039_des.txt\n",
        "./pairs_dataset/pair0040.txt\n",
        "./pairs_dataset/pair0040_des.txt\n",
        "./pairs_dataset/pair0041.txt\n",
        "./pairs_dataset/pair0041_des.txt\n",
        "./pairs_dataset/pair0042.txt\n",
        "./pairs_dataset/pair0042_des.txt"
       ]
      },
      {
       "output_type": "stream",
       "stream": "stdout",
       "text": [
        "\n",
        "./pairs_dataset/pair0043.txt\n",
        "./pairs_dataset/pair0043_des.txt"
       ]
      },
      {
       "output_type": "stream",
       "stream": "stdout",
       "text": [
        "\n",
        "./pairs_dataset/pair0044.txt\n",
        "./pairs_dataset/pair0044_des.txt"
       ]
      },
      {
       "output_type": "stream",
       "stream": "stdout",
       "text": [
        "\n",
        "./pairs_dataset/pair0045.txt\n",
        "./pairs_dataset/pair0045_des.txt"
       ]
      },
      {
       "output_type": "stream",
       "stream": "stdout",
       "text": [
        "\n",
        "./pairs_dataset/pair0046.txt\n",
        "./pairs_dataset/pair0046_des.txt\n",
        "./pairs_dataset/pair0047.txt\n",
        "./pairs_dataset/pair0047_des.txt\n",
        "./pairs_dataset/pair0048.txt\n",
        "./pairs_dataset/pair0048_des.txt\n",
        "./pairs_dataset/pair0049.txt\n",
        "./pairs_dataset/pair0049_des.txt\n",
        "./pairs_dataset/pair0050.txt\n",
        "./pairs_dataset/pair0050_des.txt\n",
        "./pairs_dataset/pair0051.txt\n",
        "./pairs_dataset/pair0051_des.txt\n",
        "./pairs_dataset/pair0052.txt\n",
        "./pairs_dataset/pair0052_des.txt"
       ]
      },
      {
       "output_type": "stream",
       "stream": "stdout",
       "text": [
        "\n",
        "./pairs_dataset/pair0053.txt\n",
        "./pairs_dataset/pair0053_des.txt\n",
        "./pairs_dataset/pair0054.txt\n",
        "./pairs_dataset/pair0054_des.txt\n",
        "./pairs_dataset/pair0055.txt\n",
        "./pairs_dataset/pair0055_des.txt\n",
        "./pairs_dataset/pair0056.txt\n",
        "./pairs_dataset/pair0056_des.txt\n",
        "./pairs_dataset/pair0057.txt\n",
        "./pairs_dataset/pair0057_des.txt\n",
        "./pairs_dataset/pair0058.txt\n",
        "./pairs_dataset/pair0058_des.txt\n",
        "./pairs_dataset/pair0059.txt\n",
        "./pairs_dataset/pair0059_des.txt\n",
        "./pairs_dataset/pair0060.txt\n",
        "./pairs_dataset/pair0060_des.txt\n",
        "./pairs_dataset/pair0061.txt\n",
        "./pairs_dataset/pair0061_des.txt\n",
        "./pairs_dataset/pair0062.txt\n",
        "./pairs_dataset/pair0062_des.txt\n",
        "./pairs_dataset/pair0063.txt\n",
        "./pairs_dataset/pair0063_des.txt\n",
        "./pairs_dataset/pair0064.txt\n",
        "./pairs_dataset/pair0064_des.txt\n",
        "./pairs_dataset/pair0065.txt\n",
        "./pairs_dataset/pair0065_des.txt\n",
        "./pairs_dataset/pair0066.txt\n",
        "./pairs_dataset/pair0066_des.txt\n",
        "./pairs_dataset/pair0067.txt\n",
        "./pairs_dataset/pair0067_des.txt"
       ]
      },
      {
       "output_type": "stream",
       "stream": "stdout",
       "text": [
        "\n",
        "./pairs_dataset/pair0068.txt\n",
        "./pairs_dataset/pair0068_des.txt\n",
        "./pairs_dataset/pair0069.txt\n",
        "./pairs_dataset/pair0069_des.txt\n",
        "./pairs_dataset/pair0070.txt\n",
        "./pairs_dataset/pair0070_des.txt\n",
        "./pairs_dataset/pair0071.txt\n",
        "./pairs_dataset/pair0071_des.txt\n",
        "./pairs_dataset/pair0072.txt\n",
        "./pairs_dataset/pair0072_des.txt\n",
        "./pairs_dataset/pair0073.txt\n",
        "./pairs_dataset/pair0073_des.txt"
       ]
      },
      {
       "output_type": "stream",
       "stream": "stdout",
       "text": [
        "\n",
        "./pairs_dataset/pair0074.txt\n",
        "./pairs_dataset/pair0074_des.txt\n",
        "./pairs_dataset/pair0075.txt\n",
        "./pairs_dataset/pair0075_des.txt\n",
        "./pairs_dataset/pair0076.txt\n",
        "./pairs_dataset/pair0076_des.txt\n",
        "./pairs_dataset/pair0077.txt\n",
        "./pairs_dataset/pair0077_des.txt\n",
        "./pairs_dataset/pair0078.txt\n",
        "./pairs_dataset/pair0078_des.txt\n",
        "./pairs_dataset/pair0079.txt\n",
        "./pairs_dataset/pair0079_des.txt\n",
        "./pairs_dataset/pair0080.txt\n",
        "./pairs_dataset/pair0080_des.txt"
       ]
      },
      {
       "output_type": "stream",
       "stream": "stdout",
       "text": [
        "\n",
        "./pairs_dataset/pair0081.txt\n",
        "./pairs_dataset/pair0081_des.txt\n",
        "./pairs_dataset/pair0082.txt\n",
        "./pairs_dataset/pair0082_des.txt\n",
        "./pairs_dataset/pair0083.txt\n",
        "./pairs_dataset/pair0083_des.txt\n",
        "./pairs_dataset/pair0084.txt\n",
        "./pairs_dataset/pair0084_des.txt"
       ]
      },
      {
       "output_type": "stream",
       "stream": "stdout",
       "text": [
        "\n",
        "./pairs_dataset/pair0085.txt\n",
        "./pairs_dataset/pair0085_des.txt\n",
        "./pairs_dataset/pair0086.txt\n",
        "./pairs_dataset/pair0086_des.txt\n",
        "./pairs_dataset/pair0087.txt\n",
        "./pairs_dataset/pair0087_des.txt\n",
        "./pairs_dataset/pair0088.txt\n",
        "./pairs_dataset/pair0088_des.txt\n",
        "./pairs_dataset/pair0089.txt\n",
        "./pairs_dataset/pair0089_des.txt\n",
        "./pairs_dataset/pair0090.txt\n",
        "./pairs_dataset/pair0090_des.txt\n",
        "./pairs_dataset/pair0091.txt\n",
        "./pairs_dataset/pair0091_des.txt\n",
        "./pairs_dataset/pair0092.txt\n",
        "./pairs_dataset/pair0092_des.txt\n",
        "./pairs_dataset/pair0093.txt\n",
        "./pairs_dataset/pair0093_des.txt\n",
        "./pairs_dataset/pair0094.txt\n",
        "./pairs_dataset/pair0094_des.txt\n",
        "./pairs_dataset/pair0095.txt\n",
        "./pairs_dataset/pair0095_des.txt\n",
        "./pairs_dataset/pair0096.txt\n",
        "./pairs_dataset/pair0096_des.txt"
       ]
      },
      {
       "output_type": "stream",
       "stream": "stdout",
       "text": [
        "\n",
        "./pairs_dataset/pairmeta.txt\n",
        "./pairs_dataset/README\n",
        "\n",
        "Processing  pair0017\n",
        "Current acc:"
       ]
      },
      {
       "output_type": "stream",
       "stream": "stdout",
       "text": [
        " 1.0 0.0 1.0\n",
        "\n",
        "Processing  pair0016\n",
        "Current acc:"
       ]
      },
      {
       "output_type": "stream",
       "stream": "stdout",
       "text": [
        " 1.0 1.0 0.5\n",
        "\n",
        "Processing  pair0015\n",
        "Current acc:"
       ]
      },
      {
       "output_type": "stream",
       "stream": "stdout",
       "text": [
        " 1.0 2.0 0.333333333333\n",
        "\n",
        "Processing  pair0014\n",
        "Current acc:"
       ]
      },
      {
       "output_type": "stream",
       "stream": "stdout",
       "text": [
        " 1.0 3.0 0.25\n",
        "\n",
        "Processing  pair0013\n",
        "Current acc:"
       ]
      },
      {
       "output_type": "stream",
       "stream": "stdout",
       "text": [
        " 1.0 4.0 0.2\n",
        "\n",
        "Processing  pair0012\n",
        "Current acc:"
       ]
      },
      {
       "output_type": "stream",
       "stream": "stdout",
       "text": [
        " 2.0 4.0 0.333333333333\n",
        "\n",
        "Processing  pair0011\n",
        "Current acc:"
       ]
      },
      {
       "output_type": "stream",
       "stream": "stdout",
       "text": [
        " 2.0 5.0 0.285714285714\n",
        "\n",
        "Processing  pair0010\n",
        "Current acc:"
       ]
      },
      {
       "output_type": "stream",
       "stream": "stdout",
       "text": [
        " 2.0 6.0 0.25\n",
        "\n",
        "Processing  pair0019\n",
        "Current acc:"
       ]
      },
      {
       "output_type": "stream",
       "stream": "stdout",
       "text": [
        " 3.0 6.0 0.333333333333\n",
        "\n",
        "Processing  pair0018\n",
        "Current acc:"
       ]
      },
      {
       "output_type": "stream",
       "stream": "stdout",
       "text": [
        " 4.0 6.0 0.4\n",
        "\n",
        "Processing  pair0088\n",
        "Current acc:"
       ]
      },
      {
       "output_type": "stream",
       "stream": "stdout",
       "text": [
        " 4.0 7.0 0.363636363636\n",
        "\n",
        "Processing  pair0089\n",
        "Current acc:"
       ]
      },
      {
       "output_type": "stream",
       "stream": "stdout",
       "text": [
        " 4.0 8.0 0.333333333333\n",
        "\n",
        "Processing  pair0084\n",
        "Current acc:"
       ]
      },
      {
       "output_type": "stream",
       "stream": "stdout",
       "text": [
        " 5.0 8.0 0.384615384615\n",
        "\n",
        "Processing  pair0085\n",
        "Current acc:"
       ]
      },
      {
       "output_type": "stream",
       "stream": "stdout",
       "text": [
        " 5.0 9.0 0.357142857143\n",
        "\n",
        "Processing  pair0086\n",
        "Current acc:"
       ]
      },
      {
       "output_type": "stream",
       "stream": "stdout",
       "text": [
        " 6.0 9.0 0.4\n",
        "\n",
        "Processing  pair0087\n",
        "Current acc:"
       ]
      },
      {
       "output_type": "stream",
       "stream": "stdout",
       "text": [
        " 7.0 9.0 0.4375\n",
        "\n",
        "Processing  pair0080\n",
        "Current acc:"
       ]
      },
      {
       "output_type": "stream",
       "stream": "stdout",
       "text": [
        " 8.0 9.0 0.470588235294\n",
        "Failed  pair0081\n",
        "Failed  pair0082\n",
        "Failed  pair0083\n",
        "\n",
        "Processing  pair0028\n",
        "Current acc:"
       ]
      },
      {
       "output_type": "stream",
       "stream": "stdout",
       "text": [
        " 8.0 10.0 0.444444444444\n",
        "\n",
        "Processing  pair0029\n",
        "Current acc:"
       ]
      },
      {
       "output_type": "stream",
       "stream": "stdout",
       "text": [
        " 9.0 10.0 0.473684210526\n",
        "\n",
        "Processing  pair0022\n",
        "Current acc:"
       ]
      },
      {
       "output_type": "stream",
       "stream": "stdout",
       "text": [
        " 10.0 10.0 0.5\n",
        "\n",
        "Processing  pair0023\n",
        "Current acc:"
       ]
      },
      {
       "output_type": "stream",
       "stream": "stdout",
       "text": [
        " 11.0 10.0 0.52380952381\n",
        "\n",
        "Processing  pair0020\n",
        "Current acc:"
       ]
      },
      {
       "output_type": "stream",
       "stream": "stdout",
       "text": [
        " 11.0 11.0 0.5\n",
        "\n",
        "Processing  pair0021\n",
        "Current acc:"
       ]
      },
      {
       "output_type": "stream",
       "stream": "stdout",
       "text": [
        " 12.0 11.0 0.521739130435\n",
        "\n",
        "Processing  pair0026\n",
        "Current acc:"
       ]
      },
      {
       "output_type": "stream",
       "stream": "stdout",
       "text": [
        " 12.0 12.0 0.5\n",
        "\n",
        "Processing  pair0027\n",
        "Current acc:"
       ]
      },
      {
       "output_type": "stream",
       "stream": "stdout",
       "text": [
        " 12.0 13.0 0.48\n",
        "\n",
        "Processing  pair0024\n",
        "Current acc:"
       ]
      },
      {
       "output_type": "stream",
       "stream": "stdout",
       "text": [
        " 13.0 13.0 0.5\n",
        "\n",
        "Processing  pair0025\n",
        "Current acc:"
       ]
      },
      {
       "output_type": "stream",
       "stream": "stdout",
       "text": [
        " 13.0 14.0 0.481481481481\n",
        "Failed  READM\n",
        "\n",
        "Processing  pair0096\n",
        "Current acc:"
       ]
      },
      {
       "output_type": "stream",
       "stream": "stdout",
       "text": [
        " 14.0 14.0 0.5\n",
        "\n",
        "Processing  pair0095\n",
        "Current acc:"
       ]
      },
      {
       "output_type": "stream",
       "stream": "stdout",
       "text": [
        " 15.0 14.0 0.51724137931\n",
        "\n",
        "Processing  pair0094\n",
        "Current acc:"
       ]
      },
      {
       "output_type": "stream",
       "stream": "stdout",
       "text": [
        " 15.0 15.0 0.5\n",
        "\n",
        "Processing  pair0093\n",
        "Current acc:"
       ]
      },
      {
       "output_type": "stream",
       "stream": "stdout",
       "text": [
        " 15.0 16.0 0.483870967742\n",
        "\n",
        "Processing  pair0092\n",
        "Current acc:"
       ]
      },
      {
       "output_type": "stream",
       "stream": "stdout",
       "text": [
        " 16.0 16.0 0.5\n",
        "\n",
        "Processing  pair0091\n",
        "Current acc:"
       ]
      },
      {
       "output_type": "stream",
       "stream": "stdout",
       "text": [
        " 16.0 17.0 0.484848484848\n",
        "\n",
        "Processing  pair0090\n",
        "Current acc:"
       ]
      },
      {
       "output_type": "stream",
       "stream": "stdout",
       "text": [
        " 16.0 18.0 0.470588235294\n",
        "\n",
        "Processing  pair0039\n",
        "Current acc:"
       ]
      },
      {
       "output_type": "stream",
       "stream": "stdout",
       "text": [
        " 17.0 18.0 0.485714285714\n",
        "\n",
        "Processing  pair0038\n",
        "Current acc:"
       ]
      },
      {
       "output_type": "stream",
       "stream": "stdout",
       "text": [
        " 17.0 19.0 0.472222222222\n",
        "\n",
        "Processing  pair0035\n",
        "Current acc:"
       ]
      },
      {
       "output_type": "stream",
       "stream": "stdout",
       "text": [
        " 18.0 19.0 0.486486486486\n",
        "\n",
        "Processing  pair0034\n",
        "Current acc:"
       ]
      },
      {
       "output_type": "stream",
       "stream": "stdout",
       "text": [
        " 19.0 19.0 0.5\n",
        "\n",
        "Processing  pair0037\n",
        "Current acc:"
       ]
      },
      {
       "output_type": "stream",
       "stream": "stdout",
       "text": [
        " 20.0 19.0 0.512820512821\n",
        "\n",
        "Processing  pair0036\n",
        "Current acc:"
       ]
      },
      {
       "output_type": "stream",
       "stream": "stdout",
       "text": [
        " 21.0 19.0 0.525\n",
        "\n",
        "Processing  pair0031\n",
        "Current acc:"
       ]
      },
      {
       "output_type": "stream",
       "stream": "stdout",
       "text": [
        " 21.0 20.0 0.512195121951\n",
        "\n",
        "Processing  pair0030\n",
        "Current acc:"
       ]
      },
      {
       "output_type": "stream",
       "stream": "stdout",
       "text": [
        " 21.0 21.0 0.5\n",
        "\n",
        "Processing  pair0033\n",
        "Current acc:"
       ]
      },
      {
       "output_type": "stream",
       "stream": "stdout",
       "text": [
        " 22.0 21.0 0.511627906977\n",
        "\n",
        "Processing  pair0032\n",
        "Current acc:"
       ]
      },
      {
       "output_type": "stream",
       "stream": "stdout",
       "text": [
        " 22.0 22.0 0.5\n",
        "Failed  pairmeta\n",
        "\n",
        "Processing  pair0048\n",
        "Current acc:"
       ]
      },
      {
       "output_type": "stream",
       "stream": "stdout",
       "text": [
        " 23.0 22.0 0.511111111111\n",
        "\n",
        "Processing  pair0049\n",
        "Current acc:"
       ]
      },
      {
       "output_type": "stream",
       "stream": "stdout",
       "text": [
        " 23.0 23.0 0.5\n",
        "\n",
        "Processing  pair0040\n",
        "Current acc:"
       ]
      },
      {
       "output_type": "stream",
       "stream": "stdout",
       "text": [
        " 24.0 23.0 0.510638297872\n",
        "\n",
        "Processing  pair0041\n",
        "Current acc:"
       ]
      },
      {
       "output_type": "stream",
       "stream": "stdout",
       "text": [
        " 25.0 23.0 0.520833333333\n",
        "\n",
        "Processing  pair0042\n",
        "Current acc:"
       ]
      },
      {
       "output_type": "stream",
       "stream": "stdout",
       "text": [
        " 25.0 24.0 0.510204081633\n",
        "\n",
        "Processing  pair0043\n",
        "Current acc:"
       ]
      },
      {
       "output_type": "stream",
       "stream": "stdout",
       "text": [
        " 26.0 24.0 0.52\n",
        "\n",
        "Processing  pair0044\n",
        "Current acc:"
       ]
      },
      {
       "output_type": "stream",
       "stream": "stdout",
       "text": [
        " 27.0 24.0 0.529411764706\n",
        "\n",
        "Processing  pair0045\n",
        "Current acc:"
       ]
      },
      {
       "output_type": "stream",
       "stream": "stdout",
       "text": [
        " 28.0 24.0 0.538461538462\n",
        "\n",
        "Processing  pair0046\n",
        "Current acc:"
       ]
      },
      {
       "output_type": "stream",
       "stream": "stdout",
       "text": [
        " 28.0 25.0 0.528301886792\n",
        "\n",
        "Processing  pair0047\n",
        "<type 'exceptions.ValueError'>\n",
        "Failed  pair0047\n",
        "\n",
        "Processing  pair0059\n",
        "Current acc:"
       ]
      },
      {
       "output_type": "stream",
       "stream": "stdout",
       "text": [
        " 28.0 26.0 0.518518518519\n",
        "\n",
        "Processing  pair0058\n",
        "Current acc:"
       ]
      },
      {
       "output_type": "stream",
       "stream": "stdout",
       "text": [
        " 28.0 27.0 0.509090909091\n",
        "Failed  pair0053\n",
        "Failed  pair0052\n",
        "\n",
        "Processing  pair0051\n",
        "Current acc:"
       ]
      },
      {
       "output_type": "stream",
       "stream": "stdout",
       "text": [
        " 28.0 28.0 0.5\n",
        "\n",
        "Processing  pair0050\n",
        "Current acc:"
       ]
      },
      {
       "output_type": "stream",
       "stream": "stdout",
       "text": [
        " 28.0 29.0 0.491228070175\n",
        "\n",
        "Processing  pair0057\n",
        "Current acc:"
       ]
      },
      {
       "output_type": "stream",
       "stream": "stdout",
       "text": [
        " 28.0 30.0 0.48275862069\n",
        "\n",
        "Processing  pair0056\n",
        "Current acc:"
       ]
      },
      {
       "output_type": "stream",
       "stream": "stdout",
       "text": [
        " 28.0 31.0 0.474576271186\n",
        "Failed  pair0055\n",
        "Failed  pair0054\n",
        "\n",
        "Processing  pair0068\n",
        "Current acc:"
       ]
      },
      {
       "output_type": "stream",
       "stream": "stdout",
       "text": [
        " 28.0 32.0 0.466666666667\n",
        "\n",
        "Processing  pair0069\n",
        "Current acc:"
       ]
      },
      {
       "output_type": "stream",
       "stream": "stdout",
       "text": [
        " 29.0 32.0 0.475409836066\n",
        "\n",
        "Processing  pair0066\n",
        "Current acc:"
       ]
      },
      {
       "output_type": "stream",
       "stream": "stdout",
       "text": [
        " 29.0 33.0 0.467741935484\n",
        "\n",
        "Processing  pair0067\n",
        "Current acc:"
       ]
      },
      {
       "output_type": "stream",
       "stream": "stdout",
       "text": [
        " 29.0 34.0 0.460317460317\n",
        "\n",
        "Processing  pair0064\n",
        "Current acc:"
       ]
      },
      {
       "output_type": "stream",
       "stream": "stdout",
       "text": [
        " 29.0 35.0 0.453125\n",
        "\n",
        "Processing  pair0065\n",
        "Current acc:"
       ]
      },
      {
       "output_type": "stream",
       "stream": "stdout",
       "text": [
        " 29.0 36.0 0.446153846154\n",
        "\n",
        "Processing  pair0062\n",
        "Current acc:"
       ]
      },
      {
       "output_type": "stream",
       "stream": "stdout",
       "text": [
        " 29.0 37.0 0.439393939394\n",
        "\n",
        "Processing  pair0063\n",
        "Current acc:"
       ]
      },
      {
       "output_type": "stream",
       "stream": "stdout",
       "text": [
        " 29.0 38.0 0.432835820896\n",
        "\n",
        "Processing  pair0060\n",
        "Current acc:"
       ]
      },
      {
       "output_type": "stream",
       "stream": "stdout",
       "text": [
        " 29.0 39.0 0.426470588235\n",
        "\n",
        "Processing  pair0061\n",
        "Current acc:"
       ]
      },
      {
       "output_type": "stream",
       "stream": "stdout",
       "text": [
        " 29.0 40.0 0.420289855072\n",
        "Failed  pair0071\n",
        "\n",
        "Processing  pair0070\n",
        "<type 'exceptions.ValueError'>\n",
        "Failed  pair0070\n",
        "\n",
        "Processing  pair0073\n",
        "Current acc:"
       ]
      },
      {
       "output_type": "stream",
       "stream": "stdout",
       "text": [
        " 30.0 40.0 0.428571428571\n",
        "\n",
        "Processing  pair0072\n",
        "Current acc:"
       ]
      },
      {
       "output_type": "stream",
       "stream": "stdout",
       "text": [
        " 30.0 41.0 0.422535211268\n",
        "\n",
        "Processing  pair0075\n",
        "Current acc:"
       ]
      },
      {
       "output_type": "stream",
       "stream": "stdout",
       "text": [
        " 31.0 41.0 0.430555555556\n",
        "\n",
        "Processing  pair0074\n",
        "Current acc:"
       ]
      },
      {
       "output_type": "stream",
       "stream": "stdout",
       "text": [
        " 31.0 42.0 0.424657534247\n",
        "\n",
        "Processing  pair0077\n",
        "Current acc:"
       ]
      },
      {
       "output_type": "stream",
       "stream": "stdout",
       "text": [
        " 32.0 42.0 0.432432432432\n",
        "\n",
        "Processing  pair0076\n",
        "Current acc:"
       ]
      },
      {
       "output_type": "stream",
       "stream": "stdout",
       "text": [
        " 32.0 43.0 0.426666666667\n",
        "\n",
        "Processing  pair0079\n",
        "Current acc:"
       ]
      },
      {
       "output_type": "stream",
       "stream": "stdout",
       "text": [
        " 33.0 43.0 0.434210526316\n",
        "\n",
        "Processing  pair0078\n",
        "Current acc:"
       ]
      },
      {
       "output_type": "stream",
       "stream": "stdout",
       "text": [
        " 33.0 44.0 0.428571428571\n",
        "\n",
        "Processing  pair0004\n",
        "Current acc:"
       ]
      },
      {
       "output_type": "stream",
       "stream": "stdout",
       "text": [
        " 34.0 44.0 0.435897435897\n",
        "\n",
        "Processing  pair0005\n",
        "Current acc:"
       ]
      },
      {
       "output_type": "stream",
       "stream": "stdout",
       "text": [
        " 34.0 45.0 0.430379746835\n",
        "\n",
        "Processing  pair0006\n",
        "Current acc:"
       ]
      },
      {
       "output_type": "stream",
       "stream": "stdout",
       "text": [
        " 34.0 46.0 0.425\n",
        "\n",
        "Processing  pair0007\n",
        "Current acc:"
       ]
      },
      {
       "output_type": "stream",
       "stream": "stdout",
       "text": [
        " 34.0 47.0 0.41975308642\n",
        "\n",
        "Processing  pair0001\n",
        "Current acc:"
       ]
      },
      {
       "output_type": "stream",
       "stream": "stdout",
       "text": [
        " 34.0 48.0 0.414634146341\n",
        "\n",
        "Processing  pair0002\n",
        "Current acc:"
       ]
      },
      {
       "output_type": "stream",
       "stream": "stdout",
       "text": [
        " 35.0 48.0 0.421686746988\n",
        "\n",
        "Processing  pair0003\n",
        "Current acc:"
       ]
      },
      {
       "output_type": "stream",
       "stream": "stdout",
       "text": [
        " 35.0 49.0 0.416666666667\n",
        "\n",
        "Processing  pair0008\n",
        "Current acc:"
       ]
      },
      {
       "output_type": "stream",
       "stream": "stdout",
       "text": [
        " 35.0 50.0 0.411764705882\n",
        "\n",
        "Processing  pair0009\n",
        "Current acc:"
       ]
      },
      {
       "output_type": "stream",
       "stream": "stdout",
       "text": [
        " 35.0 51.0 0.406976744186\n",
        "\n",
        "Final Benchmark Accuracy: 0.406976744186\n"
       ]
      }
     ],
     "prompt_number": 8
    },
    {
     "cell_type": "code",
     "collapsed": false,
     "input": [],
     "language": "python",
     "metadata": {},
     "outputs": []
    }
   ],
   "metadata": {}
  }
 ]
}